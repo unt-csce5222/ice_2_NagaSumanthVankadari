{
 "cells": [
  {
   "cell_type": "markdown",
   "id": "27478533",
   "metadata": {},
   "source": [
    "###### CSCE 5222: Feature Engineering - Assignment 2 (ICE_2)\n",
    "###### Student: Naga Sumanth Vankadari\n",
    "###### Instructor:  Dr. Sayed Khushal Shah\n"
   ]
  },
  {
   "cell_type": "markdown",
   "id": "a880bca9",
   "metadata": {},
   "source": [
    "## Code from Article: Text Summarization - https://towardsdatascience.com/understand-text-summarization-and-create-your-own-summarizer-in-python-b26a9f09fc70"
   ]
  },
  {
   "cell_type": "markdown",
   "id": "47a36562",
   "metadata": {},
   "source": [
    "##### Step 1: Importing Libraries"
   ]
  },
  {
   "cell_type": "code",
   "execution_count": 251,
   "id": "7f823a65",
   "metadata": {},
   "outputs": [],
   "source": [
    "from nltk.corpus import stopwords\n",
    "from nltk.cluster.util import cosine_distance\n",
    "import numpy as np\n",
    "import networkx as nx"
   ]
  },
  {
   "cell_type": "markdown",
   "id": "399c1598",
   "metadata": {},
   "source": [
    "##### Step 2: Generate clean sentences"
   ]
  },
  {
   "cell_type": "code",
   "execution_count": 252,
   "id": "704eb0d4",
   "metadata": {},
   "outputs": [],
   "source": [
    "def read_article(file_name):\n",
    "    \n",
    "    print_data = open(file_name, \"r\")\n",
    "    print(\"Input Article: \\n\" + print_data.read())\n",
    "    print_data.close()\n",
    "    \n",
    "    file = open(file_name, \"r\")\n",
    "    filedata = file.readlines()\n",
    "    article = filedata[0].split(\". \")\n",
    "    sentences = []\n",
    "\n",
    "    for sentence in article:\n",
    "        sentences.append(sentence.replace(\"[^a-zA-Z]\", \" \").split(\" \"))\n",
    "    sentences.pop() \n",
    "    \n",
    "    return sentences"
   ]
  },
  {
   "cell_type": "markdown",
   "id": "e30a9bf5",
   "metadata": {},
   "source": [
    "##### Step 3: Build Sentence Similarity"
   ]
  },
  {
   "cell_type": "code",
   "execution_count": 253,
   "id": "7e922ab5",
   "metadata": {},
   "outputs": [],
   "source": [
    "def sentence_similarity(sent1, sent2, stopwords=None):\n",
    "    if stopwords is None:\n",
    "        stopwords = []\n",
    " \n",
    "    sent1 = [w.lower() for w in sent1]\n",
    "    sent2 = [w.lower() for w in sent2]\n",
    " \n",
    "    all_words = list(set(sent1 + sent2))\n",
    " \n",
    "    vector1 = [0] * len(all_words)\n",
    "    vector2 = [0] * len(all_words)\n",
    " \n",
    "    # build the vector for the first sentence\n",
    "    for w in sent1:\n",
    "        if w in stopwords:\n",
    "            continue\n",
    "        vector1[all_words.index(w)] += 1\n",
    " \n",
    "    # build the vector for the second sentence\n",
    "    for w in sent2:\n",
    "        if w in stopwords:\n",
    "            continue\n",
    "        vector2[all_words.index(w)] += 1\n",
    " \n",
    "    return 1 - cosine_distance(vector1, vector2)"
   ]
  },
  {
   "cell_type": "markdown",
   "id": "401a7f9b",
   "metadata": {},
   "source": [
    "##### Step 4. Build Similarity matrix"
   ]
  },
  {
   "cell_type": "code",
   "execution_count": 254,
   "id": "132c41ba",
   "metadata": {},
   "outputs": [],
   "source": [
    " \n",
    "def build_similarity_matrix(sentences, stop_words):\n",
    "    # Create an empty similarity matrix\n",
    "    similarity_matrix = np.zeros((len(sentences), len(sentences)))\n",
    " \n",
    "    for idx1 in range(len(sentences)):\n",
    "        for idx2 in range(len(sentences)):\n",
    "            if idx1 == idx2: #ignore if both are same sentences\n",
    "                continue \n",
    "            similarity_matrix[idx1][idx2] = sentence_similarity(sentences[idx1], sentences[idx2], stop_words)\n",
    "\n",
    "    return similarity_matrix"
   ]
  },
  {
   "cell_type": "markdown",
   "id": "502d16e2",
   "metadata": {},
   "source": [
    "##### Step 5: Generate Summary Method\n"
   ]
  },
  {
   "cell_type": "code",
   "execution_count": 255,
   "id": "308c31b3",
   "metadata": {},
   "outputs": [],
   "source": [
    "\n",
    "def generate_summary(file_name, top_n=5):\n",
    "    stop_words = stopwords.words('english')\n",
    "    summarize_text = []\n",
    "\n",
    "    sentences =  read_article(file_name)\n",
    "\n",
    "    sentence_similarity_martix = build_similarity_matrix(sentences, stop_words)\n",
    "\n",
    "    sentence_similarity_graph = nx.from_numpy_array(sentence_similarity_martix)\n",
    "    scores = nx.pagerank(sentence_similarity_graph)\n",
    "\n",
    "    ranked_sentence = sorted(((scores[i],s) for i,s in enumerate(sentences)), reverse=True)      \n",
    "\n",
    "    for i in range(top_n):\n",
    "      summarize_text.append(\" \".join(ranked_sentence[i][1]))\n",
    "\n",
    "#     print(\"Summarize Text: \\n\", \". \".join(summarize_text))\n",
    "    \n",
    "    return \". \".join(summarize_text)"
   ]
  },
  {
   "cell_type": "markdown",
   "id": "bd9fd1dd",
   "metadata": {},
   "source": [
    "##### Generate summary for sample provided in the article"
   ]
  },
  {
   "cell_type": "code",
   "execution_count": 256,
   "id": "0c5e7295",
   "metadata": {},
   "outputs": [
    {
     "name": "stdout",
     "output_type": "stream",
     "text": [
      "Input Article: \n",
      "In an attempt to build an AI-ready workforce, Microsoft announced Intelligent Cloud Hub which has been launched to empower the next generation of students with AI-ready skills. Envisioned as a three-year collaborative program, Intelligent Cloud Hub will support around 100 institutions with AI infrastructure, course content and curriculum, developer support, development tools and give students access to cloud and AI services. As part of the program, the Redmond giant which wants to expand its reach and is planning to build a strong developer ecosystem in India with the program will set up the core AI infrastructure and IoT Hub for the selected campuses. The company will provide AI development tools and Azure AI services such as Microsoft Cognitive Services, Bot Services and Azure Machine Learning.According to Manish Prakash, Country General Manager-PS, Health and Education, Microsoft India, said, \"With AI being the defining technology of our time, it is transforming lives and industry and the jobs of tomorrow will require a different skillset. This will require more collaborations and training and working with AI. That’s why it has become more critical than ever for educational institutions to integrate new cloud and AI technologies. The program is an attempt to ramp up the institutional set-up and build capabilities among the educators to educate the workforce of tomorrow.\" The program aims to build up the cognitive skills and in-depth understanding of developing intelligent cloud connected solutions for applications across industry. Earlier in April this year, the company announced Microsoft Professional Program In AI as a learning track open to the public. The program was developed to provide job ready skills to programmers who wanted to hone their skills in AI and data science with a series of online courses which featured hands-on labs and expert instructors as well. This program also included developer-focused AI school that provided a bunch of assets to help build AI skills.\n",
      "Extracted Summary:\n",
      "Envisioned as a three-year collaborative program, Intelligent Cloud Hub will support around 100 institutions with AI infrastructure, course content and curriculum, developer support, development tools and give students access to cloud and AI services. The company will provide AI development tools and Azure AI services such as Microsoft Cognitive Services, Bot Services and Azure Machine Learning.According to Manish Prakash, Country General Manager-PS, Health and Education, Microsoft India, said, \"With AI being the defining technology of our time, it is transforming lives and industry and the jobs of tomorrow will require a different skillset\n",
      "------------------------\n"
     ]
    }
   ],
   "source": [
    "print(\"Extracted Summary:\\n\" + generate_summary(\"msft.txt\", 2))\n",
    "print(\"------------------------\")"
   ]
  },
  {
   "cell_type": "markdown",
   "id": "204fef4c",
   "metadata": {},
   "source": [
    "##### Applying above summary extraction code to five articles from previous assignment (ICE_1)"
   ]
  },
  {
   "cell_type": "code",
   "execution_count": 257,
   "id": "a75472b9",
   "metadata": {},
   "outputs": [
    {
     "name": "stdout",
     "output_type": "stream",
     "text": [
      "File Number:1\n",
      "Input Article: \n",
      "Collins banned in landmark case. Sprinter Michelle Collins has received an eight-year ban for doping offences after a hearing at the North American Court of Arbitration for Sport (CAS). America's former world indoor 200m champion is the first athlete to be suspended without a positive drugs test or an admission of drugs use. Collins' ban is a result of her connection to the federal inquiry into the Balco doping scandal. The 33-year-old was found guilty of using performance-enhancing drugs. The US Anti-Doping Agency (USADA) decided to press charges against Collins in the summer. The sprinter has consistently protested her innocence but the CAS has upheld USADA's findings. \"The USADA has proved, beyond a reasonable doubt, that Collins took EPO, the testosterone/epitestosterone cream and THG,\" said a CAS statement. \"Collins used these substances to enhance her performance and elude the drug testing that was available at the time.\" So far a total of 13 athletes have been sanctioned for violations involving drugs associated with the Balco doping scandal. World record holder Tim Montgomery is also facing a lifetime ban after being charged by the USADA. His hearing before the CSA has been rescheduled for June next year. Drug enforcement chiefs in the US have vowed to crack down on cheats. USADA chief executive officer Terry Madden said the action taken against Collins was further proof of that. \"The CAS panel's decision confirms that those who violate the rules will be sanctioned as part of USADA's ongoing efforts to protect the rights of the overwhelming majority of US athletes that compete drug-free,\" said Madden. The USADA has built its cases on verbal evidence given to the federal investigation into Balco rather than test results. The San Francisco-based Balco laboratory faces steroid distribution and money laundering charges. The trial is expected to open next March.\n",
      "\n",
      "Extracted Summary:\n",
      "Sprinter Michelle Collins has received an eight-year ban for doping offences after a hearing at the North American Court of Arbitration for Sport (CAS). \"The USADA has proved, beyond a reasonable doubt, that Collins took EPO, the testosterone/epitestosterone cream and THG,\" said a CAS statement\n",
      "------------------------\n",
      "File Number:2\n",
      "Input Article: \n",
      "Indonesians face fuel price rise. Indonesia's government has confirmed it is considering raising fuel prices by as much as 30%. Millions of Indonesians use kerosene for basic cooking, and prices have been heavily subsidised for years. President Susilo Bambang Yudhoyono's government has said it wants to curb fuel subsidies and direct the money into aid programmes for the poor. But critics argue cutting subsidies will hurt the poorer families that his government says it wants to help. Millions of people were left homeless in Indonesia Aceh's region following the earthquake and tsunami disaster in late December. Indonesia pays subsidies to importers in order to stabilise domestic fuel prices, but higher oil prices have forced the government to spend more on holding prices down. It spent 59.2 trillion rupiah ($6.58bn; £3.5bn) on fuel subsidies in 2004, a sum far in excess of its original projection of 14.5 trillion rupiah. Since President Yudhoyono's government came to power in October, it has indicated its intention of raising domestic fuel prices by cutting subsidies. \"The (January to March) quarter of this year is the best time for us to increase fuel prices,\" said Sri Mulyani Indrawati, State Minister for National Development Planning. \"We are still considering if a 30% hike is suitable at the moment. The sooner the better for the state budget.\" The BBC's correspondent in Jakarta, Rachel Harvey, told World Business Report that there was likely to be a strong public reaction to any price rise. \"The big question is whether they go for one big, short, sharp shock and raise prices between 20% and 30% or whether they try to stagger it,\" she said. Indonesia's previous government, led by President Megawati Sukarnoputri, also attempted to cut subsidies in 2003, but was forced to back down in the face of public protests.\n",
      "\n",
      "Extracted Summary:\n",
      "Indonesia's government has confirmed it is considering raising fuel prices by as much as 30%. Since President Yudhoyono's government came to power in October, it has indicated its intention of raising domestic fuel prices by cutting subsidies\n",
      "------------------------\n",
      "File Number:3\n",
      "Input Article: \n",
      "Crisis 'ahead in social sciences'. A national body designed to tackle skills shortages in key subjects should be set up, a committee of MPs has said. There was an \"absolute crisis\" in the recruitment of statisticians and other social science experts, the Commons science and technology committee added. \"Major problems\" are expected over the next 10 years as the social science workforce continues to age, it said. The committee was reporting on the work, strategy and spending plans of the Economic Social Research Council. The council aims to promote and support strategic research for social science postgraduates and provide social scientists to meet the needs of the country. It also liaises with the government and industry over their social science needs. In its report on the council's work the committee said: \"We are deeply concerned by the skills shortages afflicting, in particular, the qualitative branches of social sciences. This mirrored previous concerns the committee had expressed on shortages in the fields of maths and chemistry, it said. \"It is hard to see how significant progress towards rectifying these shortages can be made through the deployment of Economic and Social Research Council's limited resources. \"If the government is serious about addressing skills shortages in key subjects it needs to find a more effective mechanism to achieve this.\" A national \"strategic capabilities fund\" to address shortages in key areas should be set up in response, the committee added.\n",
      "\n",
      "Extracted Summary:\n",
      "The council aims to promote and support strategic research for social science postgraduates and provide social scientists to meet the needs of the country. There was an \"absolute crisis\" in the recruitment of statisticians and other social science experts, the Commons science and technology committee added\n",
      "------------------------\n",
      "File Number:4\n",
      "Input Article: \n",
      "Microsoft makes anti-piracy move. Microsoft says it is clamping down on people running pirated versions of its Windows operating system by restricting their access to security features. The Windows Genuine Advantage scheme means people will have to prove their software is genuine from mid-2005. It will still allow those with unauthorised copies to get some crucial security fixes via automatic updates, but their options would be \"limited\". Microsoft releases regular security updates to its software to protect PCs. Either PCs detect updates automatically or users manually download fixes through Microsoft's site. Those running pirated Windows programs would not have access to other downloads and \"add-ons\" that the software giant offers. People who try to manually download security patches will have to let Microsoft run an automated checking procedure on their computer or give an identification number. Microsoft's regular patches which it releases for newly-found security flaws are important because they stop worms, viruses and other threats penetrating PCs. Some security experts are concerned that restricting access to such patches could mean a rise in such attacks and threats, with more PCs left unprotected. But Graham Cluley, senior consultant at security firm Sophos, told the BBC News website that it was a positive decision. \"It sounds like their decision to allow critical security patches to remain available to both legitimate and illegitimate users of Windows is good news for everyone who uses the net,\" he said. Windows Genuine Advantage was first introduced as a pilot scheme in September 2004 for English-language versions of Windows. Microsoft's Windows operating system is heavily exploited by virus writers because it is so widespread and they are constantly seeking out new security loopholes to take advantage of. The company is trying to tackle security threats whilst cracking down on pirated software at the same time. Software piracy has cost the company billions, it says. The company announced earlier in January that it was releasing security tools to clean up PCs harbouring viruses and spyware, which 90% of PCs are infected with. The virus-fighting program, updated monthly, is a precursor to Microsoft's dedicated anti-virus software. Last year it introduced the Windows XP Counterfeit Project, a UK-based pilot scheme, which ran from November to December. The scheme meant that anyone with pre-installed copies of the operating system in PCs bought before November could replace counterfeit versions of Windows XP with legal ones for free. It is also increasing efforts to squash software piracy in China, Norway and the Czech Republic, where pirated software is a huge problem, by offering discounts on legitimate software to users of pirated copies Windows. \"China in particular is a problem, with piracy estimated at 92%,\" said Mr Cluley.\n",
      "Extracted Summary:\n",
      "Microsoft releases regular security updates to its software to protect PCs. Microsoft says it is clamping down on people running pirated versions of its Windows operating system by restricting their access to security features\n",
      "------------------------\n",
      "File Number:5\n",
      "Input Article: \n",
      "Bennett play takes theatre prizes. The History Boys by Alan Bennett has been named best new play in the Critics' Circle Theatre Awards. Set in a grammar school, the play also earned a best actor prize for star Richard Griffiths as teacher Hector. The Producers was named best musical, Victoria Hamilton was best actress for Suddenly Last Summer and Festen's Rufus Norris was named best director. The History Boys also won the best new comedy title at the Theatregoers' Choice Awards. Partly based upon Alan Bennett's experience as a teacher, The History Boys has been at London's National Theatre since last May. The Critics' Circle named Rebecca Lenkiewicz its most promising playwright for The Night Season, and Eddie Redmayne most promising newcomer for The Goat or, Who is Sylvia?Paul Rhys was its best Shakespearean performer for Measure for Measure at the National Theatre and Christopher Oram won the design award for Suddenly Last Summer. Both the Critics' Circle and Whatsonstage.com Theatregoers' Choice award winners were announced on Tuesday. Chosen by more than 11,000 theatre fans, the Theatregoers' Choice Awards named US actor Christian Slater best actor for One Flew Over the Cuckoo's Nest. Diana Rigg was best actress for Suddenly Last Summer, Dame Judi Dench was best supporting actress for the RSC's All's Well That Ends Well and The History Boys' Samuel Barnett was best supporting actor.\n",
      "\n",
      "Extracted Summary:\n",
      "The History Boys by Alan Bennett has been named best new play in the Critics' Circle Theatre Awards. The History Boys also won the best new comedy title at the Theatregoers' Choice Awards\n",
      "------------------------\n"
     ]
    }
   ],
   "source": [
    "import glob\n",
    "\n",
    "output_1 = []\n",
    "i = 1\n",
    "\n",
    "\n",
    "for file_path in glob.iglob('/Users/nvvankad/Documents/new_laptop/Personal/Masters/CSCE 5222 Feature Engineering/Assignment2/5_articles/*.txt'):\n",
    "    print(\"File Number:\" + str(i))\n",
    "    extracted_summary = generate_summary(file_path, 2)\n",
    "    print(\"Extracted Summary:\\n\" + extracted_summary)\n",
    "    print(\"------------------------\")\n",
    "    output_1.append(extracted_summary)\n",
    "    i = i + 1"
   ]
  },
  {
   "cell_type": "markdown",
   "id": "87886e07",
   "metadata": {},
   "source": [
    "## Apply Text Cleaning "
   ]
  },
  {
   "cell_type": "markdown",
   "id": "c01796a5",
   "metadata": {},
   "source": [
    "#### Read the input files and print the content"
   ]
  },
  {
   "cell_type": "code",
   "execution_count": 258,
   "id": "82bed5a6",
   "metadata": {},
   "outputs": [
    {
     "name": "stdout",
     "output_type": "stream",
     "text": [
      "Collins banned in landmark case. Sprinter Michelle Collins has received an eight-year ban for doping offences after a hearing at the North American Court of Arbitration for Sport (CAS). America's former world indoor 200m champion is the first athlete to be suspended without a positive drugs test or an admission of drugs use. Collins' ban is a result of her connection to the federal inquiry into the Balco doping scandal. The 33-year-old was found guilty of using performance-enhancing drugs. The US Anti-Doping Agency (USADA) decided to press charges against Collins in the summer. The sprinter has consistently protested her innocence but the CAS has upheld USADA's findings. \"The USADA has proved, beyond a reasonable doubt, that Collins took EPO, the testosterone/epitestosterone cream and THG,\" said a CAS statement. \"Collins used these substances to enhance her performance and elude the drug testing that was available at the time.\" So far a total of 13 athletes have been sanctioned for violations involving drugs associated with the Balco doping scandal. World record holder Tim Montgomery is also facing a lifetime ban after being charged by the USADA. His hearing before the CSA has been rescheduled for June next year. Drug enforcement chiefs in the US have vowed to crack down on cheats. USADA chief executive officer Terry Madden said the action taken against Collins was further proof of that. \"The CAS panel's decision confirms that those who violate the rules will be sanctioned as part of USADA's ongoing efforts to protect the rights of the overwhelming majority of US athletes that compete drug-free,\" said Madden. The USADA has built its cases on verbal evidence given to the federal investigation into Balco rather than test results. The San Francisco-based Balco laboratory faces steroid distribution and money laundering charges. The trial is expected to open next March.\n",
      "\n",
      "Indonesians face fuel price rise. Indonesia's government has confirmed it is considering raising fuel prices by as much as 30%. Millions of Indonesians use kerosene for basic cooking, and prices have been heavily subsidised for years. President Susilo Bambang Yudhoyono's government has said it wants to curb fuel subsidies and direct the money into aid programmes for the poor. But critics argue cutting subsidies will hurt the poorer families that his government says it wants to help. Millions of people were left homeless in Indonesia Aceh's region following the earthquake and tsunami disaster in late December. Indonesia pays subsidies to importers in order to stabilise domestic fuel prices, but higher oil prices have forced the government to spend more on holding prices down. It spent 59.2 trillion rupiah ($6.58bn; £3.5bn) on fuel subsidies in 2004, a sum far in excess of its original projection of 14.5 trillion rupiah. Since President Yudhoyono's government came to power in October, it has indicated its intention of raising domestic fuel prices by cutting subsidies. \"The (January to March) quarter of this year is the best time for us to increase fuel prices,\" said Sri Mulyani Indrawati, State Minister for National Development Planning. \"We are still considering if a 30% hike is suitable at the moment. The sooner the better for the state budget.\" The BBC's correspondent in Jakarta, Rachel Harvey, told World Business Report that there was likely to be a strong public reaction to any price rise. \"The big question is whether they go for one big, short, sharp shock and raise prices between 20% and 30% or whether they try to stagger it,\" she said. Indonesia's previous government, led by President Megawati Sukarnoputri, also attempted to cut subsidies in 2003, but was forced to back down in the face of public protests.\n",
      "\n",
      "Crisis 'ahead in social sciences'. A national body designed to tackle skills shortages in key subjects should be set up, a committee of MPs has said. There was an \"absolute crisis\" in the recruitment of statisticians and other social science experts, the Commons science and technology committee added. \"Major problems\" are expected over the next 10 years as the social science workforce continues to age, it said. The committee was reporting on the work, strategy and spending plans of the Economic Social Research Council. The council aims to promote and support strategic research for social science postgraduates and provide social scientists to meet the needs of the country. It also liaises with the government and industry over their social science needs. In its report on the council's work the committee said: \"We are deeply concerned by the skills shortages afflicting, in particular, the qualitative branches of social sciences. This mirrored previous concerns the committee had expressed on shortages in the fields of maths and chemistry, it said. \"It is hard to see how significant progress towards rectifying these shortages can be made through the deployment of Economic and Social Research Council's limited resources. \"If the government is serious about addressing skills shortages in key subjects it needs to find a more effective mechanism to achieve this.\" A national \"strategic capabilities fund\" to address shortages in key areas should be set up in response, the committee added.\n",
      "\n",
      "Microsoft makes anti-piracy move. Microsoft says it is clamping down on people running pirated versions of its Windows operating system by restricting their access to security features. The Windows Genuine Advantage scheme means people will have to prove their software is genuine from mid-2005. It will still allow those with unauthorised copies to get some crucial security fixes via automatic updates, but their options would be \"limited\". Microsoft releases regular security updates to its software to protect PCs. Either PCs detect updates automatically or users manually download fixes through Microsoft's site. Those running pirated Windows programs would not have access to other downloads and \"add-ons\" that the software giant offers. People who try to manually download security patches will have to let Microsoft run an automated checking procedure on their computer or give an identification number. Microsoft's regular patches which it releases for newly-found security flaws are important because they stop worms, viruses and other threats penetrating PCs. Some security experts are concerned that restricting access to such patches could mean a rise in such attacks and threats, with more PCs left unprotected. But Graham Cluley, senior consultant at security firm Sophos, told the BBC News website that it was a positive decision. \"It sounds like their decision to allow critical security patches to remain available to both legitimate and illegitimate users of Windows is good news for everyone who uses the net,\" he said. Windows Genuine Advantage was first introduced as a pilot scheme in September 2004 for English-language versions of Windows. Microsoft's Windows operating system is heavily exploited by virus writers because it is so widespread and they are constantly seeking out new security loopholes to take advantage of. The company is trying to tackle security threats whilst cracking down on pirated software at the same time. Software piracy has cost the company billions, it says. The company announced earlier in January that it was releasing security tools to clean up PCs harbouring viruses and spyware, which 90% of PCs are infected with. The virus-fighting program, updated monthly, is a precursor to Microsoft's dedicated anti-virus software. Last year it introduced the Windows XP Counterfeit Project, a UK-based pilot scheme, which ran from November to December. The scheme meant that anyone with pre-installed copies of the operating system in PCs bought before November could replace counterfeit versions of Windows XP with legal ones for free. It is also increasing efforts to squash software piracy in China, Norway and the Czech Republic, where pirated software is a huge problem, by offering discounts on legitimate software to users of pirated copies Windows. \"China in particular is a problem, with piracy estimated at 92%,\" said Mr Cluley.\n",
      "Bennett play takes theatre prizes. The History Boys by Alan Bennett has been named best new play in the Critics' Circle Theatre Awards. Set in a grammar school, the play also earned a best actor prize for star Richard Griffiths as teacher Hector. The Producers was named best musical, Victoria Hamilton was best actress for Suddenly Last Summer and Festen's Rufus Norris was named best director. The History Boys also won the best new comedy title at the Theatregoers' Choice Awards. Partly based upon Alan Bennett's experience as a teacher, The History Boys has been at London's National Theatre since last May. The Critics' Circle named Rebecca Lenkiewicz its most promising playwright for The Night Season, and Eddie Redmayne most promising newcomer for The Goat or, Who is Sylvia?Paul Rhys was its best Shakespearean performer for Measure for Measure at the National Theatre and Christopher Oram won the design award for Suddenly Last Summer. Both the Critics' Circle and Whatsonstage.com Theatregoers' Choice award winners were announced on Tuesday. Chosen by more than 11,000 theatre fans, the Theatregoers' Choice Awards named US actor Christian Slater best actor for One Flew Over the Cuckoo's Nest. Diana Rigg was best actress for Suddenly Last Summer, Dame Judi Dench was best supporting actress for the RSC's All's Well That Ends Well and The History Boys' Samuel Barnett was best supporting actor.\n",
      "\n"
     ]
    }
   ],
   "source": [
    "import glob\n",
    "\n",
    "\n",
    "for file_path in glob.iglob('/Users/nvvankad/Documents/new_laptop/Personal/Masters/CSCE 5222 Feature Engineering/Assignment2/5_articles/*.txt'):\n",
    "    f = open(file_path,'r')\n",
    "    print(f.read())\n",
    "    \n",
    "    \n",
    "# As seen below, articles containt punctuation marks such as: quotes, semicolon, ''s'. Remove extra spaces, convert to lower case.\n",
    "# We will also apply lemmatization to use the origin word\n"
   ]
  },
  {
   "cell_type": "markdown",
   "id": "124829e2",
   "metadata": {},
   "source": [
    "### Text Cleaning - With Lemmatization"
   ]
  },
  {
   "cell_type": "code",
   "execution_count": 259,
   "id": "baab72b5",
   "metadata": {},
   "outputs": [
    {
     "name": "stdout",
     "output_type": "stream",
     "text": [
      "sport.txt\n",
      "collins ban in landmark case. sprinter michelle collins have receive an eight-year ban for dope offences after a hear at the north american court of arbitration for sport (cas). america former world indoor 200m champion be the first athlete to be suspend without a positive drug test or an admission of drug use. collins' ban be a result of her connection to the federal inquiry into the balco dope scandal. the 33-year-old be find guilty of use performance-enhancing drugs. the us anti-doping agency (usada) decide to press charge against collins in the summer. the sprinter have consistently protest her innocence but the cas have uphold usada findings. the usada have prove beyond a reasonable doubt that collins take epo the testosterone/epitestosterone cream and thg say a cas statement. collins use these substances to enhance her performance and elude the drug test that be available at the time. so far a total of 13 athletes have be sanction for violations involve drug associate with the balco dope scandal. world record holder tim montgomery be also face a lifetime ban after be charge by the usada. his hear before the csa have be reschedule for june next year. drug enforcement chiefs in the us have vow to crack down on cheats. usada chief executive officer terry madden say the action take against collins be further proof of that. the cas panel decision confirm that those who violate the rule will be sanction as part of usada ongoing efforts to protect the right of the overwhelm majority of us athletes that compete drug-free say madden. the usada have build its case on verbal evidence give to the federal investigation into balco rather than test results. the san francisco-based balco laboratory face steroid distribution and money launder charges. the trial be expect to open next march.\n",
      "\n",
      "entertainment.txt\n",
      "indonesians face fuel price rise. indonesia government have confirm it be consider raise fuel price by as much as 30%. millions of indonesians use kerosene for basic cook and price have be heavily subsidise for years. president susilo bambang yudhoyono government have say it want to curb fuel subsidies and direct the money into aid program for the poor. but critics argue cut subsidies will hurt the poorer families that his government say it want to help. millions of people be leave homeless in indonesia aceh region follow the earthquake and tsunami disaster in late december. indonesia pay subsidies to importers in order to stabilise domestic fuel price but higher oil price have force the government to spend more on hold price down. it spend 59.2 trillion rupiah ($6.58bn £3.5bn) on fuel subsidies in 2004 a sum far in excess of its original projection of 14.5 trillion rupiah. since president yudhoyono government come to power in october it have indicate its intention of raise domestic fuel price by cut subsidies. the (january to march) quarter of this year be the best time for us to increase fuel price say sri mulyani indrawati state minister for national development planning. we be still consider if a 30% hike be suitable at the moment. the sooner the better for the state budget. the bbc correspondent in jakarta rachel harvey tell world business report that there be likely to be a strong public reaction to any price rise. the big question be whether they go for one big short sharp shock and raise price between 20% and 30% or whether they try to stagger it she said. indonesia previous government lead by president megawati sukarnoputri also attempt to cut subsidies in 2003 but be force to back down in the face of public protests.\n",
      "\n",
      "politics.txt\n",
      "crisis 'ahead in social sciences'. a national body design to tackle skills shortages in key subject should be set up a committee of mps have said. there be an absolute crisis in the recruitment of statisticians and other social science experts the commons science and technology committee added. major problems be expect over the next 10 years as the social science workforce continue to age it said. the committee be report on the work strategy and spend plan of the economic social research council. the council aim to promote and support strategic research for social science postgraduates and provide social scientists to meet the need of the country. it also liaise with the government and industry over their social science needs. in its report on the council work the committee say we be deeply concern by the skills shortages afflict in particular the qualitative branch of social sciences. this mirror previous concern the committee have express on shortages in the field of maths and chemistry it said. it be hard to see how significant progress towards rectify these shortages can be make through the deployment of economic and social research council limit resources. if the government be serious about address skills shortages in key subject it need to find a more effective mechanism to achieve this. a national strategic capabilities fund to address shortages in key areas should be set up in response the committee added.\n",
      "\n",
      "tech.txt\n",
      "microsoft make anti-piracy move. microsoft say it be clamp down on people run pirate versions of its windows operate system by restrict their access to security features. the windows genuine advantage scheme mean people will have to prove their software be genuine from mid-2005. it will still allow those with unauthorised copy to get some crucial security fix via automatic update but their options would be limited. microsoft release regular security update to its software to protect pcs. either pcs detect update automatically or users manually download fix through microsoft site. those run pirate windows program would not have access to other download and add-ons that the software giant offers. people who try to manually download security patch will have to let microsoft run an automate check procedure on their computer or give an identification number. microsoft regular patch which it release for newly-found security flaw be important because they stop worm viruses and other threats penetrate pcs. some security experts be concern that restrict access to such patch could mean a rise in such attack and threats with more pcs leave unprotected. but graham cluley senior consultant at security firm sophos tell the bbc news website that it be a positive decision. it sound like their decision to allow critical security patch to remain available to both legitimate and illegitimate users of windows be good news for everyone who use the net he said. windows genuine advantage be first introduce as a pilot scheme in september 2004 for english-language versions of windows. microsoft windows operate system be heavily exploit by virus writers because it be so widespread and they be constantly seek out new security loopholes to take advantage of. the company be try to tackle security threats whilst crack down on pirate software at the same time. software piracy have cost the company billions it says. the company announce earlier in january that it be release security tool to clean up pcs harbour viruses and spyware which 90% of pcs be infect with. the virus-fighting program update monthly be a precursor to microsoft dedicate anti-virus software. last year it introduce the windows xp counterfeit project a uk-based pilot scheme which run from november to december. the scheme mean that anyone with pre-installed copy of the operate system in pcs buy before november could replace counterfeit versions of windows xp with legal ones for free. it be also increase efforts to squash software piracy in china norway and the czech republic where pirate software be a huge problem by offer discount on legitimate software to users of pirate copy windows. china in particular be a problem with piracy estimate at 92% say mr cluley.\n",
      "business.txt\n",
      "bennett play take theatre prizes. the history boys by alan bennett have be name best new play in the critics' circle theatre awards. set in a grammar school the play also earn a best actor prize for star richard griffiths as teacher hector. the producers be name best musical victoria hamilton be best actress for suddenly last summer and festen rufus norris be name best director. the history boys also win the best new comedy title at the theatregoers' choice awards. partly base upon alan bennett experience as a teacher the history boys have be at london national theatre since last may. the critics' circle name rebecca lenkiewicz its most promise playwright for the night season and eddie redmayne most promise newcomer for the goat or who be sylviapaul rhys be its best shakespearean performer for measure for measure at the national theatre and christopher oram win the design award for suddenly last summer. both the critics' circle and whatsonstage.com theatregoers' choice award winners be announce on tuesday. choose by more than 11000 theatre fan the theatregoers' choice award name us actor christian slater best actor for one fly over the cuckoo nest. diana rigg be best actress for suddenly last summer dame judi dench be best support actress for the rsc all well that end well and the history boys' samuel barnett be best support actor.\n",
      "\n"
     ]
    },
    {
     "name": "stderr",
     "output_type": "stream",
     "text": [
      "[nltk_data] Downloading package punkt to /Users/nvvankad/nltk_data...\n",
      "[nltk_data]   Package punkt is already up-to-date!\n",
      "[nltk_data] Downloading package wordnet to\n",
      "[nltk_data]     /Users/nvvankad/nltk_data...\n",
      "[nltk_data]   Package wordnet is already up-to-date!\n"
     ]
    }
   ],
   "source": [
    "import glob\n",
    "import os\n",
    "import nltk\n",
    "from nltk.stem import WordNetLemmatizer\n",
    "\n",
    "\n",
    "# Downloading punkt and wordnet from NLTK\n",
    "nltk.download('punkt')\n",
    "nltk.download('wordnet')\n",
    "\n",
    "# Saving the lemmatizer into an object\n",
    "wordnet_lemmatizer = WordNetLemmatizer()\n",
    "\n",
    "punctuation_signs = list(\"?:,;\")\n",
    "\n",
    "cleaned_files_save_path = '/Users/nvvankad/Documents/new_laptop/Personal/Masters/CSCE 5222 Feature Engineering/Assignment2/cleaned_output/'\n",
    "\n",
    "for file_path in glob.iglob('/Users/nvvankad/Documents/new_laptop/Personal/Masters/CSCE 5222 Feature Engineering/Assignment2/5_articles/*.txt'):\n",
    "    f = open(file_path,'r')\n",
    "    file_name = file_path.split('/')[-1]\n",
    "    print(file_name)\n",
    "    \n",
    "    file_content = f.read()\n",
    "    file_content = file_content.replace('\"', '')\n",
    "    file_content = file_content.lower()\n",
    "    for punct_sign in punctuation_signs:\n",
    "        file_content = file_content.replace(punct_sign, '')\n",
    "    file_content = file_content.replace(\"'s\", \"\")\n",
    "    \n",
    "    lemmatized_list = []\n",
    "    text_words = file_content.split(\" \")\n",
    "    for word in text_words:\n",
    "        lemmatized_list.append(wordnet_lemmatizer.lemmatize(word, pos=\"v\"))\n",
    "    lemmatized_text = \" \".join(lemmatized_list)\n",
    "    \n",
    "    \n",
    "    print(lemmatized_text)\n",
    "    \n",
    "    \n",
    "    with open(cleaned_files_save_path + file_name, 'w') as f:\n",
    "        f.write(lemmatized_text)\n",
    "        f.close()"
   ]
  },
  {
   "cell_type": "code",
   "execution_count": 260,
   "id": "44795040",
   "metadata": {},
   "outputs": [
    {
     "name": "stdout",
     "output_type": "stream",
     "text": [
      "File Number:1\n",
      "Input Article: \n",
      "collins ban in landmark case. sprinter michelle collins have receive an eight-year ban for dope offences after a hear at the north american court of arbitration for sport (cas). america former world indoor 200m champion be the first athlete to be suspend without a positive drug test or an admission of drug use. collins' ban be a result of her connection to the federal inquiry into the balco dope scandal. the 33-year-old be find guilty of use performance-enhancing drugs. the us anti-doping agency (usada) decide to press charge against collins in the summer. the sprinter have consistently protest her innocence but the cas have uphold usada findings. the usada have prove beyond a reasonable doubt that collins take epo the testosterone/epitestosterone cream and thg say a cas statement. collins use these substances to enhance her performance and elude the drug test that be available at the time. so far a total of 13 athletes have be sanction for violations involve drug associate with the balco dope scandal. world record holder tim montgomery be also face a lifetime ban after be charge by the usada. his hear before the csa have be reschedule for june next year. drug enforcement chiefs in the us have vow to crack down on cheats. usada chief executive officer terry madden say the action take against collins be further proof of that. the cas panel decision confirm that those who violate the rule will be sanction as part of usada ongoing efforts to protect the right of the overwhelm majority of us athletes that compete drug-free say madden. the usada have build its case on verbal evidence give to the federal investigation into balco rather than test results. the san francisco-based balco laboratory face steroid distribution and money launder charges. the trial be expect to open next march.\n",
      "\n",
      "Extracted Summary:\n",
      "collins use these substances to enhance her performance and elude the drug test that be available at the time. collins ban in landmark case\n",
      "------------------------\n",
      "File Number:2\n",
      "Input Article: \n",
      "indonesians face fuel price rise. indonesia government have confirm it be consider raise fuel price by as much as 30%. millions of indonesians use kerosene for basic cook and price have be heavily subsidise for years. president susilo bambang yudhoyono government have say it want to curb fuel subsidies and direct the money into aid program for the poor. but critics argue cut subsidies will hurt the poorer families that his government say it want to help. millions of people be leave homeless in indonesia aceh region follow the earthquake and tsunami disaster in late december. indonesia pay subsidies to importers in order to stabilise domestic fuel price but higher oil price have force the government to spend more on hold price down. it spend 59.2 trillion rupiah ($6.58bn £3.5bn) on fuel subsidies in 2004 a sum far in excess of its original projection of 14.5 trillion rupiah. since president yudhoyono government come to power in october it have indicate its intention of raise domestic fuel price by cut subsidies. the (january to march) quarter of this year be the best time for us to increase fuel price say sri mulyani indrawati state minister for national development planning. we be still consider if a 30% hike be suitable at the moment. the sooner the better for the state budget. the bbc correspondent in jakarta rachel harvey tell world business report that there be likely to be a strong public reaction to any price rise. the big question be whether they go for one big short sharp shock and raise price between 20% and 30% or whether they try to stagger it she said. indonesia previous government lead by president megawati sukarnoputri also attempt to cut subsidies in 2003 but be force to back down in the face of public protests.\n",
      "\n",
      "Extracted Summary:\n",
      "indonesia government have confirm it be consider raise fuel price by as much as 30%. indonesia pay subsidies to importers in order to stabilise domestic fuel price but higher oil price have force the government to spend more on hold price down\n",
      "------------------------\n",
      "File Number:3\n",
      "Input Article: \n",
      "crisis 'ahead in social sciences'. a national body design to tackle skills shortages in key subject should be set up a committee of mps have said. there be an absolute crisis in the recruitment of statisticians and other social science experts the commons science and technology committee added. major problems be expect over the next 10 years as the social science workforce continue to age it said. the committee be report on the work strategy and spend plan of the economic social research council. the council aim to promote and support strategic research for social science postgraduates and provide social scientists to meet the need of the country. it also liaise with the government and industry over their social science needs. in its report on the council work the committee say we be deeply concern by the skills shortages afflict in particular the qualitative branch of social sciences. this mirror previous concern the committee have express on shortages in the field of maths and chemistry it said. it be hard to see how significant progress towards rectify these shortages can be make through the deployment of economic and social research council limit resources. if the government be serious about address skills shortages in key subject it need to find a more effective mechanism to achieve this. a national strategic capabilities fund to address shortages in key areas should be set up in response the committee added.\n",
      "\n",
      "Extracted Summary:\n",
      "in its report on the council work the committee say we be deeply concern by the skills shortages afflict in particular the qualitative branch of social sciences. the council aim to promote and support strategic research for social science postgraduates and provide social scientists to meet the need of the country\n",
      "------------------------\n",
      "File Number:4\n",
      "Input Article: \n",
      "microsoft make anti-piracy move. microsoft say it be clamp down on people run pirate versions of its windows operate system by restrict their access to security features. the windows genuine advantage scheme mean people will have to prove their software be genuine from mid-2005. it will still allow those with unauthorised copy to get some crucial security fix via automatic update but their options would be limited. microsoft release regular security update to its software to protect pcs. either pcs detect update automatically or users manually download fix through microsoft site. those run pirate windows program would not have access to other download and add-ons that the software giant offers. people who try to manually download security patch will have to let microsoft run an automate check procedure on their computer or give an identification number. microsoft regular patch which it release for newly-found security flaw be important because they stop worm viruses and other threats penetrate pcs. some security experts be concern that restrict access to such patch could mean a rise in such attack and threats with more pcs leave unprotected. but graham cluley senior consultant at security firm sophos tell the bbc news website that it be a positive decision. it sound like their decision to allow critical security patch to remain available to both legitimate and illegitimate users of windows be good news for everyone who use the net he said. windows genuine advantage be first introduce as a pilot scheme in september 2004 for english-language versions of windows. microsoft windows operate system be heavily exploit by virus writers because it be so widespread and they be constantly seek out new security loopholes to take advantage of. the company be try to tackle security threats whilst crack down on pirate software at the same time. software piracy have cost the company billions it says. the company announce earlier in january that it be release security tool to clean up pcs harbour viruses and spyware which 90% of pcs be infect with. the virus-fighting program update monthly be a precursor to microsoft dedicate anti-virus software. last year it introduce the windows xp counterfeit project a uk-based pilot scheme which run from november to december. the scheme mean that anyone with pre-installed copy of the operate system in pcs buy before november could replace counterfeit versions of windows xp with legal ones for free. it be also increase efforts to squash software piracy in china norway and the czech republic where pirate software be a huge problem by offer discount on legitimate software to users of pirate copy windows. china in particular be a problem with piracy estimate at 92% say mr cluley.\n",
      "Extracted Summary:\n",
      "microsoft release regular security update to its software to protect pcs. microsoft say it be clamp down on people run pirate versions of its windows operate system by restrict their access to security features\n",
      "------------------------\n",
      "File Number:5\n",
      "Input Article: \n",
      "bennett play take theatre prizes. the history boys by alan bennett have be name best new play in the critics' circle theatre awards. set in a grammar school the play also earn a best actor prize for star richard griffiths as teacher hector. the producers be name best musical victoria hamilton be best actress for suddenly last summer and festen rufus norris be name best director. the history boys also win the best new comedy title at the theatregoers' choice awards. partly base upon alan bennett experience as a teacher the history boys have be at london national theatre since last may. the critics' circle name rebecca lenkiewicz its most promise playwright for the night season and eddie redmayne most promise newcomer for the goat or who be sylviapaul rhys be its best shakespearean performer for measure for measure at the national theatre and christopher oram win the design award for suddenly last summer. both the critics' circle and whatsonstage.com theatregoers' choice award winners be announce on tuesday. choose by more than 11000 theatre fan the theatregoers' choice award name us actor christian slater best actor for one fly over the cuckoo nest. diana rigg be best actress for suddenly last summer dame judi dench be best support actress for the rsc all well that end well and the history boys' samuel barnett be best support actor.\n",
      "\n",
      "Extracted Summary:\n",
      "the history boys by alan bennett have be name best new play in the critics' circle theatre awards. the history boys also win the best new comedy title at the theatregoers' choice awards\n",
      "------------------------\n"
     ]
    }
   ],
   "source": [
    "import glob\n",
    "\n",
    "output_2 = []\n",
    "i = 1\n",
    "\n",
    "\n",
    "for file_path in glob.iglob('/Users/nvvankad/Documents/new_laptop/Personal/Masters/CSCE 5222 Feature Engineering/Assignment2/cleaned_output/*.txt'):\n",
    "    print(\"File Number:\" + str(i))\n",
    "    extracted_summary = generate_summary(file_path, 2)\n",
    "    print(\"Extracted Summary:\\n\" + extracted_summary)\n",
    "    print(\"------------------------\")\n",
    "    output_2.append(extracted_summary)\n",
    "    i = i + 1"
   ]
  },
  {
   "cell_type": "markdown",
   "id": "af0fd74e",
   "metadata": {},
   "source": [
    "### Comparing Extracted Summary - Before and After Text Cleaning (With Lemmatization)"
   ]
  },
  {
   "cell_type": "code",
   "execution_count": 261,
   "id": "bbc4fea9",
   "metadata": {},
   "outputs": [
    {
     "name": "stdout",
     "output_type": "stream",
     "text": [
      "Summary Before Text Cleaning: \n",
      "Sprinter Michelle Collins has received an eight-year ban for doping offences after a hearing at the North American Court of Arbitration for Sport (CAS). \"The USADA has proved, beyond a reasonable doubt, that Collins took EPO, the testosterone/epitestosterone cream and THG,\" said a CAS statement\n",
      "\n",
      "\n",
      "Summary After Text Cleaning with Lemmatization: \n",
      "collins use these substances to enhance her performance and elude the drug test that be available at the time. collins ban in landmark case\n",
      "--------------\n",
      "Summary Before Text Cleaning: \n",
      "Indonesia's government has confirmed it is considering raising fuel prices by as much as 30%. Since President Yudhoyono's government came to power in October, it has indicated its intention of raising domestic fuel prices by cutting subsidies\n",
      "\n",
      "\n",
      "Summary After Text Cleaning with Lemmatization: \n",
      "indonesia government have confirm it be consider raise fuel price by as much as 30%. indonesia pay subsidies to importers in order to stabilise domestic fuel price but higher oil price have force the government to spend more on hold price down\n",
      "--------------\n",
      "Summary Before Text Cleaning: \n",
      "The council aims to promote and support strategic research for social science postgraduates and provide social scientists to meet the needs of the country. There was an \"absolute crisis\" in the recruitment of statisticians and other social science experts, the Commons science and technology committee added\n",
      "\n",
      "\n",
      "Summary After Text Cleaning with Lemmatization: \n",
      "in its report on the council work the committee say we be deeply concern by the skills shortages afflict in particular the qualitative branch of social sciences. the council aim to promote and support strategic research for social science postgraduates and provide social scientists to meet the need of the country\n",
      "--------------\n",
      "Summary Before Text Cleaning: \n",
      "Microsoft releases regular security updates to its software to protect PCs. Microsoft says it is clamping down on people running pirated versions of its Windows operating system by restricting their access to security features\n",
      "\n",
      "\n",
      "Summary After Text Cleaning with Lemmatization: \n",
      "microsoft release regular security update to its software to protect pcs. microsoft say it be clamp down on people run pirate versions of its windows operate system by restrict their access to security features\n",
      "--------------\n",
      "Summary Before Text Cleaning: \n",
      "The History Boys by Alan Bennett has been named best new play in the Critics' Circle Theatre Awards. The History Boys also won the best new comedy title at the Theatregoers' Choice Awards\n",
      "\n",
      "\n",
      "Summary After Text Cleaning with Lemmatization: \n",
      "the history boys by alan bennett have be name best new play in the critics' circle theatre awards. the history boys also win the best new comedy title at the theatregoers' choice awards\n",
      "--------------\n"
     ]
    }
   ],
   "source": [
    "for i in range(len(output_1)):\n",
    "    print(\"Summary Before Text Cleaning: \\n\" + output_1[i])\n",
    "    print(\"\\n\")\n",
    "    print(\"Summary After Text Cleaning with Lemmatization: \\n\" + output_2[i])\n",
    "    print(\"--------------\")"
   ]
  },
  {
   "cell_type": "markdown",
   "id": "eb2f02d7",
   "metadata": {},
   "source": [
    "### Text Cleaning - Without Lemmatization"
   ]
  },
  {
   "cell_type": "code",
   "execution_count": 262,
   "id": "c47525fc",
   "metadata": {},
   "outputs": [
    {
     "name": "stdout",
     "output_type": "stream",
     "text": [
      "sport.txt\n",
      "collins banned in landmark case. sprinter michelle collins has received an eight-year ban for doping offences after a hearing at the north american court of arbitration for sport (cas). america former world indoor 200m champion is the first athlete to be suspended without a positive drugs test or an admission of drugs use. collins' ban is a result of her connection to the federal inquiry into the balco doping scandal. the 33-year-old was found guilty of using performance-enhancing drugs. the us anti-doping agency (usada) decided to press charges against collins in the summer. the sprinter has consistently protested her innocence but the cas has upheld usada findings. the usada has proved beyond a reasonable doubt that collins took epo the testosterone/epitestosterone cream and thg said a cas statement. collins used these substances to enhance her performance and elude the drug testing that was available at the time. so far a total of 13 athletes have been sanctioned for violations involving drugs associated with the balco doping scandal. world record holder tim montgomery is also facing a lifetime ban after being charged by the usada. his hearing before the csa has been rescheduled for june next year. drug enforcement chiefs in the us have vowed to crack down on cheats. usada chief executive officer terry madden said the action taken against collins was further proof of that. the cas panel decision confirms that those who violate the rules will be sanctioned as part of usada ongoing efforts to protect the rights of the overwhelming majority of us athletes that compete drug-free said madden. the usada has built its cases on verbal evidence given to the federal investigation into balco rather than test results. the san francisco-based balco laboratory faces steroid distribution and money laundering charges. the trial is expected to open next march.\n",
      "\n",
      "entertainment.txt\n",
      "indonesians face fuel price rise. indonesia government has confirmed it is considering raising fuel prices by as much as 30%. millions of indonesians use kerosene for basic cooking and prices have been heavily subsidised for years. president susilo bambang yudhoyono government has said it wants to curb fuel subsidies and direct the money into aid programmes for the poor. but critics argue cutting subsidies will hurt the poorer families that his government says it wants to help. millions of people were left homeless in indonesia aceh region following the earthquake and tsunami disaster in late december. indonesia pays subsidies to importers in order to stabilise domestic fuel prices but higher oil prices have forced the government to spend more on holding prices down. it spent 59.2 trillion rupiah ($6.58bn £3.5bn) on fuel subsidies in 2004 a sum far in excess of its original projection of 14.5 trillion rupiah. since president yudhoyono government came to power in october it has indicated its intention of raising domestic fuel prices by cutting subsidies. the (january to march) quarter of this year is the best time for us to increase fuel prices said sri mulyani indrawati state minister for national development planning. we are still considering if a 30% hike is suitable at the moment. the sooner the better for the state budget. the bbc correspondent in jakarta rachel harvey told world business report that there was likely to be a strong public reaction to any price rise. the big question is whether they go for one big short sharp shock and raise prices between 20% and 30% or whether they try to stagger it she said. indonesia previous government led by president megawati sukarnoputri also attempted to cut subsidies in 2003 but was forced to back down in the face of public protests.\n",
      "\n",
      "politics.txt\n",
      "crisis 'ahead in social sciences'. a national body designed to tackle skills shortages in key subjects should be set up a committee of mps has said. there was an absolute crisis in the recruitment of statisticians and other social science experts the commons science and technology committee added. major problems are expected over the next 10 years as the social science workforce continues to age it said. the committee was reporting on the work strategy and spending plans of the economic social research council. the council aims to promote and support strategic research for social science postgraduates and provide social scientists to meet the needs of the country. it also liaises with the government and industry over their social science needs. in its report on the council work the committee said we are deeply concerned by the skills shortages afflicting in particular the qualitative branches of social sciences. this mirrored previous concerns the committee had expressed on shortages in the fields of maths and chemistry it said. it is hard to see how significant progress towards rectifying these shortages can be made through the deployment of economic and social research council limited resources. if the government is serious about addressing skills shortages in key subjects it needs to find a more effective mechanism to achieve this. a national strategic capabilities fund to address shortages in key areas should be set up in response the committee added.\n",
      "\n",
      "tech.txt\n",
      "microsoft makes anti-piracy move. microsoft says it is clamping down on people running pirated versions of its windows operating system by restricting their access to security features. the windows genuine advantage scheme means people will have to prove their software is genuine from mid-2005. it will still allow those with unauthorised copies to get some crucial security fixes via automatic updates but their options would be limited. microsoft releases regular security updates to its software to protect pcs. either pcs detect updates automatically or users manually download fixes through microsoft site. those running pirated windows programs would not have access to other downloads and add-ons that the software giant offers. people who try to manually download security patches will have to let microsoft run an automated checking procedure on their computer or give an identification number. microsoft regular patches which it releases for newly-found security flaws are important because they stop worms viruses and other threats penetrating pcs. some security experts are concerned that restricting access to such patches could mean a rise in such attacks and threats with more pcs left unprotected. but graham cluley senior consultant at security firm sophos told the bbc news website that it was a positive decision. it sounds like their decision to allow critical security patches to remain available to both legitimate and illegitimate users of windows is good news for everyone who uses the net he said. windows genuine advantage was first introduced as a pilot scheme in september 2004 for english-language versions of windows. microsoft windows operating system is heavily exploited by virus writers because it is so widespread and they are constantly seeking out new security loopholes to take advantage of. the company is trying to tackle security threats whilst cracking down on pirated software at the same time. software piracy has cost the company billions it says. the company announced earlier in january that it was releasing security tools to clean up pcs harbouring viruses and spyware which 90% of pcs are infected with. the virus-fighting program updated monthly is a precursor to microsoft dedicated anti-virus software. last year it introduced the windows xp counterfeit project a uk-based pilot scheme which ran from november to december. the scheme meant that anyone with pre-installed copies of the operating system in pcs bought before november could replace counterfeit versions of windows xp with legal ones for free. it is also increasing efforts to squash software piracy in china norway and the czech republic where pirated software is a huge problem by offering discounts on legitimate software to users of pirated copies windows. china in particular is a problem with piracy estimated at 92% said mr cluley.\n",
      "business.txt\n",
      "bennett play takes theatre prizes. the history boys by alan bennett has been named best new play in the critics' circle theatre awards. set in a grammar school the play also earned a best actor prize for star richard griffiths as teacher hector. the producers was named best musical victoria hamilton was best actress for suddenly last summer and festen rufus norris was named best director. the history boys also won the best new comedy title at the theatregoers' choice awards. partly based upon alan bennett experience as a teacher the history boys has been at london national theatre since last may. the critics' circle named rebecca lenkiewicz its most promising playwright for the night season and eddie redmayne most promising newcomer for the goat or who is sylviapaul rhys was its best shakespearean performer for measure for measure at the national theatre and christopher oram won the design award for suddenly last summer. both the critics' circle and whatsonstage.com theatregoers' choice award winners were announced on tuesday. chosen by more than 11000 theatre fans the theatregoers' choice awards named us actor christian slater best actor for one flew over the cuckoo nest. diana rigg was best actress for suddenly last summer dame judi dench was best supporting actress for the rsc all well that ends well and the history boys' samuel barnett was best supporting actor.\n",
      "\n"
     ]
    }
   ],
   "source": [
    "import glob\n",
    "import os\n",
    "\n",
    "\n",
    "\n",
    "punctuation_signs = list(\"?:!,;\")\n",
    "\n",
    "\n",
    "cleaned_files_save_path = '/Users/nvvankad/Documents/new_laptop/Personal/Masters/CSCE 5222 Feature Engineering/Assignment2/cleaned_output/'\n",
    "\n",
    "for file_path in glob.iglob('/Users/nvvankad/Documents/new_laptop/Personal/Masters/CSCE 5222 Feature Engineering/Assignment2/5_articles/*.txt'):\n",
    "    f = open(file_path,'r')\n",
    "    file_name = file_path.split('/')[-1]\n",
    "    print(file_name)\n",
    "    \n",
    "    file_content = f.read()\n",
    "    file_content = file_content.replace('\"', '')\n",
    "    file_content = file_content.lower()\n",
    "    for punct_sign in punctuation_signs:\n",
    "        file_content = file_content.replace(punct_sign, '')\n",
    "    file_content = file_content.replace(\"'s\", \"\")\n",
    "    print(file_content)\n",
    "    \n",
    "    \n",
    "    with open(cleaned_files_save_path + file_name, 'w') as f:\n",
    "        f.write(file_content)\n",
    "        f.close()"
   ]
  },
  {
   "cell_type": "markdown",
   "id": "e459b196",
   "metadata": {},
   "source": [
    "### Extracted Summary after text cleaning without Lemmatization"
   ]
  },
  {
   "cell_type": "code",
   "execution_count": 263,
   "id": "200d46e8",
   "metadata": {},
   "outputs": [
    {
     "name": "stdout",
     "output_type": "stream",
     "text": [
      "File Number:1\n",
      "Input Article: \n",
      "collins banned in landmark case. sprinter michelle collins has received an eight-year ban for doping offences after a hearing at the north american court of arbitration for sport (cas). america former world indoor 200m champion is the first athlete to be suspended without a positive drugs test or an admission of drugs use. collins' ban is a result of her connection to the federal inquiry into the balco doping scandal. the 33-year-old was found guilty of using performance-enhancing drugs. the us anti-doping agency (usada) decided to press charges against collins in the summer. the sprinter has consistently protested her innocence but the cas has upheld usada findings. the usada has proved beyond a reasonable doubt that collins took epo the testosterone/epitestosterone cream and thg said a cas statement. collins used these substances to enhance her performance and elude the drug testing that was available at the time. so far a total of 13 athletes have been sanctioned for violations involving drugs associated with the balco doping scandal. world record holder tim montgomery is also facing a lifetime ban after being charged by the usada. his hearing before the csa has been rescheduled for june next year. drug enforcement chiefs in the us have vowed to crack down on cheats. usada chief executive officer terry madden said the action taken against collins was further proof of that. the cas panel decision confirms that those who violate the rules will be sanctioned as part of usada ongoing efforts to protect the rights of the overwhelming majority of us athletes that compete drug-free said madden. the usada has built its cases on verbal evidence given to the federal investigation into balco rather than test results. the san francisco-based balco laboratory faces steroid distribution and money laundering charges. the trial is expected to open next march.\n",
      "\n",
      "Extracted Summary:\n",
      "usada chief executive officer terry madden said the action taken against collins was further proof of that. the usada has proved beyond a reasonable doubt that collins took epo the testosterone/epitestosterone cream and thg said a cas statement\n",
      "------------------------\n",
      "File Number:2\n",
      "Input Article: \n",
      "indonesians face fuel price rise. indonesia government has confirmed it is considering raising fuel prices by as much as 30%. millions of indonesians use kerosene for basic cooking and prices have been heavily subsidised for years. president susilo bambang yudhoyono government has said it wants to curb fuel subsidies and direct the money into aid programmes for the poor. but critics argue cutting subsidies will hurt the poorer families that his government says it wants to help. millions of people were left homeless in indonesia aceh region following the earthquake and tsunami disaster in late december. indonesia pays subsidies to importers in order to stabilise domestic fuel prices but higher oil prices have forced the government to spend more on holding prices down. it spent 59.2 trillion rupiah ($6.58bn £3.5bn) on fuel subsidies in 2004 a sum far in excess of its original projection of 14.5 trillion rupiah. since president yudhoyono government came to power in october it has indicated its intention of raising domestic fuel prices by cutting subsidies. the (january to march) quarter of this year is the best time for us to increase fuel prices said sri mulyani indrawati state minister for national development planning. we are still considering if a 30% hike is suitable at the moment. the sooner the better for the state budget. the bbc correspondent in jakarta rachel harvey told world business report that there was likely to be a strong public reaction to any price rise. the big question is whether they go for one big short sharp shock and raise prices between 20% and 30% or whether they try to stagger it she said. indonesia previous government led by president megawati sukarnoputri also attempted to cut subsidies in 2003 but was forced to back down in the face of public protests.\n",
      "\n",
      "Extracted Summary:\n",
      "indonesia government has confirmed it is considering raising fuel prices by as much as 30%. indonesia pays subsidies to importers in order to stabilise domestic fuel prices but higher oil prices have forced the government to spend more on holding prices down\n",
      "------------------------\n",
      "File Number:3\n",
      "Input Article: \n",
      "crisis 'ahead in social sciences'. a national body designed to tackle skills shortages in key subjects should be set up a committee of mps has said. there was an absolute crisis in the recruitment of statisticians and other social science experts the commons science and technology committee added. major problems are expected over the next 10 years as the social science workforce continues to age it said. the committee was reporting on the work strategy and spending plans of the economic social research council. the council aims to promote and support strategic research for social science postgraduates and provide social scientists to meet the needs of the country. it also liaises with the government and industry over their social science needs. in its report on the council work the committee said we are deeply concerned by the skills shortages afflicting in particular the qualitative branches of social sciences. this mirrored previous concerns the committee had expressed on shortages in the fields of maths and chemistry it said. it is hard to see how significant progress towards rectifying these shortages can be made through the deployment of economic and social research council limited resources. if the government is serious about addressing skills shortages in key subjects it needs to find a more effective mechanism to achieve this. a national strategic capabilities fund to address shortages in key areas should be set up in response the committee added.\n",
      "\n",
      "Extracted Summary:\n",
      "in its report on the council work the committee said we are deeply concerned by the skills shortages afflicting in particular the qualitative branches of social sciences. the council aims to promote and support strategic research for social science postgraduates and provide social scientists to meet the needs of the country\n",
      "------------------------\n",
      "File Number:4\n",
      "Input Article: \n",
      "microsoft makes anti-piracy move. microsoft says it is clamping down on people running pirated versions of its windows operating system by restricting their access to security features. the windows genuine advantage scheme means people will have to prove their software is genuine from mid-2005. it will still allow those with unauthorised copies to get some crucial security fixes via automatic updates but their options would be limited. microsoft releases regular security updates to its software to protect pcs. either pcs detect updates automatically or users manually download fixes through microsoft site. those running pirated windows programs would not have access to other downloads and add-ons that the software giant offers. people who try to manually download security patches will have to let microsoft run an automated checking procedure on their computer or give an identification number. microsoft regular patches which it releases for newly-found security flaws are important because they stop worms viruses and other threats penetrating pcs. some security experts are concerned that restricting access to such patches could mean a rise in such attacks and threats with more pcs left unprotected. but graham cluley senior consultant at security firm sophos told the bbc news website that it was a positive decision. it sounds like their decision to allow critical security patches to remain available to both legitimate and illegitimate users of windows is good news for everyone who uses the net he said. windows genuine advantage was first introduced as a pilot scheme in september 2004 for english-language versions of windows. microsoft windows operating system is heavily exploited by virus writers because it is so widespread and they are constantly seeking out new security loopholes to take advantage of. the company is trying to tackle security threats whilst cracking down on pirated software at the same time. software piracy has cost the company billions it says. the company announced earlier in january that it was releasing security tools to clean up pcs harbouring viruses and spyware which 90% of pcs are infected with. the virus-fighting program updated monthly is a precursor to microsoft dedicated anti-virus software. last year it introduced the windows xp counterfeit project a uk-based pilot scheme which ran from november to december. the scheme meant that anyone with pre-installed copies of the operating system in pcs bought before november could replace counterfeit versions of windows xp with legal ones for free. it is also increasing efforts to squash software piracy in china norway and the czech republic where pirated software is a huge problem by offering discounts on legitimate software to users of pirated copies windows. china in particular is a problem with piracy estimated at 92% said mr cluley.\n"
     ]
    },
    {
     "name": "stdout",
     "output_type": "stream",
     "text": [
      "Extracted Summary:\n",
      "microsoft releases regular security updates to its software to protect pcs. microsoft says it is clamping down on people running pirated versions of its windows operating system by restricting their access to security features\n",
      "------------------------\n",
      "File Number:5\n",
      "Input Article: \n",
      "bennett play takes theatre prizes. the history boys by alan bennett has been named best new play in the critics' circle theatre awards. set in a grammar school the play also earned a best actor prize for star richard griffiths as teacher hector. the producers was named best musical victoria hamilton was best actress for suddenly last summer and festen rufus norris was named best director. the history boys also won the best new comedy title at the theatregoers' choice awards. partly based upon alan bennett experience as a teacher the history boys has been at london national theatre since last may. the critics' circle named rebecca lenkiewicz its most promising playwright for the night season and eddie redmayne most promising newcomer for the goat or who is sylviapaul rhys was its best shakespearean performer for measure for measure at the national theatre and christopher oram won the design award for suddenly last summer. both the critics' circle and whatsonstage.com theatregoers' choice award winners were announced on tuesday. chosen by more than 11000 theatre fans the theatregoers' choice awards named us actor christian slater best actor for one flew over the cuckoo nest. diana rigg was best actress for suddenly last summer dame judi dench was best supporting actress for the rsc all well that ends well and the history boys' samuel barnett was best supporting actor.\n",
      "\n",
      "Extracted Summary:\n",
      "the history boys by alan bennett has been named best new play in the critics' circle theatre awards. the history boys also won the best new comedy title at the theatregoers' choice awards\n",
      "------------------------\n"
     ]
    }
   ],
   "source": [
    "import glob\n",
    "\n",
    "output_2 = []\n",
    "i = 1\n",
    "\n",
    "\n",
    "for file_path in glob.iglob('/Users/nvvankad/Documents/new_laptop/Personal/Masters/CSCE 5222 Feature Engineering/Assignment2/cleaned_output/*.txt'):\n",
    "    print(\"File Number:\" + str(i))\n",
    "    extracted_summary = generate_summary(file_path, 2)\n",
    "    print(\"Extracted Summary:\\n\" + extracted_summary)\n",
    "    print(\"------------------------\")\n",
    "    output_2.append(extracted_summary)\n",
    "    i = i + 1"
   ]
  },
  {
   "cell_type": "markdown",
   "id": "aea72659",
   "metadata": {},
   "source": [
    "### Comparing Extracted Summary - Before and After Text Cleaning (Without Lemmatization)"
   ]
  },
  {
   "cell_type": "code",
   "execution_count": 264,
   "id": "590a62fb",
   "metadata": {},
   "outputs": [
    {
     "name": "stdout",
     "output_type": "stream",
     "text": [
      "Summary Before Text Cleaning: \n",
      "Sprinter Michelle Collins has received an eight-year ban for doping offences after a hearing at the North American Court of Arbitration for Sport (CAS). \"The USADA has proved, beyond a reasonable doubt, that Collins took EPO, the testosterone/epitestosterone cream and THG,\" said a CAS statement\n",
      "\n",
      "\n",
      "Summary After Text Cleaning without Lemmatization: \n",
      "usada chief executive officer terry madden said the action taken against collins was further proof of that. the usada has proved beyond a reasonable doubt that collins took epo the testosterone/epitestosterone cream and thg said a cas statement\n",
      "--------------\n",
      "Summary Before Text Cleaning: \n",
      "Indonesia's government has confirmed it is considering raising fuel prices by as much as 30%. Since President Yudhoyono's government came to power in October, it has indicated its intention of raising domestic fuel prices by cutting subsidies\n",
      "\n",
      "\n",
      "Summary After Text Cleaning without Lemmatization: \n",
      "indonesia government has confirmed it is considering raising fuel prices by as much as 30%. indonesia pays subsidies to importers in order to stabilise domestic fuel prices but higher oil prices have forced the government to spend more on holding prices down\n",
      "--------------\n",
      "Summary Before Text Cleaning: \n",
      "The council aims to promote and support strategic research for social science postgraduates and provide social scientists to meet the needs of the country. There was an \"absolute crisis\" in the recruitment of statisticians and other social science experts, the Commons science and technology committee added\n",
      "\n",
      "\n",
      "Summary After Text Cleaning without Lemmatization: \n",
      "in its report on the council work the committee said we are deeply concerned by the skills shortages afflicting in particular the qualitative branches of social sciences. the council aims to promote and support strategic research for social science postgraduates and provide social scientists to meet the needs of the country\n",
      "--------------\n",
      "Summary Before Text Cleaning: \n",
      "Microsoft releases regular security updates to its software to protect PCs. Microsoft says it is clamping down on people running pirated versions of its Windows operating system by restricting their access to security features\n",
      "\n",
      "\n",
      "Summary After Text Cleaning without Lemmatization: \n",
      "microsoft releases regular security updates to its software to protect pcs. microsoft says it is clamping down on people running pirated versions of its windows operating system by restricting their access to security features\n",
      "--------------\n",
      "Summary Before Text Cleaning: \n",
      "The History Boys by Alan Bennett has been named best new play in the Critics' Circle Theatre Awards. The History Boys also won the best new comedy title at the Theatregoers' Choice Awards\n",
      "\n",
      "\n",
      "Summary After Text Cleaning without Lemmatization: \n",
      "the history boys by alan bennett has been named best new play in the critics' circle theatre awards. the history boys also won the best new comedy title at the theatregoers' choice awards\n",
      "--------------\n"
     ]
    }
   ],
   "source": [
    "for i in range(len(output_1)):\n",
    "    print(\"Summary Before Text Cleaning: \\n\" + output_1[i])\n",
    "    print(\"\\n\")\n",
    "    print(\"Summary After Text Cleaning without Lemmatization: \\n\" + output_2[i])\n",
    "    print(\"--------------\")"
   ]
  }
 ],
 "metadata": {
  "kernelspec": {
   "display_name": "Python 3 (ipykernel)",
   "language": "python",
   "name": "python3"
  },
  "language_info": {
   "codemirror_mode": {
    "name": "ipython",
    "version": 3
   },
   "file_extension": ".py",
   "mimetype": "text/x-python",
   "name": "python",
   "nbconvert_exporter": "python",
   "pygments_lexer": "ipython3",
   "version": "3.8.8"
  }
 },
 "nbformat": 4,
 "nbformat_minor": 5
}
